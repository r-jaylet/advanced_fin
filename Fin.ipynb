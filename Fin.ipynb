{
 "cells": [
  {
   "cell_type": "code",
   "execution_count": 2,
   "id": "municipal-engineer",
   "metadata": {},
   "outputs": [],
   "source": [
    "import pandas as pd\n",
    "import matplotlib.pyplot as plt\n",
    "import pandas as pd\n",
    "import seaborn as sns\n",
    "import numpy as np\n",
    "import statsmodels.api as sm\n",
    "from sklearn.linear_model import LogisticRegression, LinearRegression\n",
    "from sklearn.model_selection import train_test_split\n",
    "from sklearn.metrics import accuracy_score,classification_report,confusion_matrix,mean_squared_error\n",
    "from sklearn.ensemble import RandomForestClassifier\n",
    "from sklearn import metrics\n",
    "\n",
    "sns.set()"
   ]
  },
  {
   "cell_type": "markdown",
   "id": "municipal-indonesia",
   "metadata": {},
   "source": [
    "### Preprocessing "
   ]
  },
  {
   "cell_type": "code",
   "execution_count": 3,
   "id": "african-particular",
   "metadata": {},
   "outputs": [],
   "source": [
    "df = pd.read_csv('PastLoans.csv')"
   ]
  },
  {
   "cell_type": "code",
   "execution_count": 4,
   "id": "statewide-blowing",
   "metadata": {},
   "outputs": [],
   "source": [
    "df = pd.get_dummies(df)\n",
    "df = df.drop(['social1', 'social2', 'id'], axis=1)"
   ]
  },
  {
   "cell_type": "markdown",
   "id": "residential-asset",
   "metadata": {},
   "source": [
    "income data is skewed, take log to flatten histogram"
   ]
  },
  {
   "cell_type": "code",
   "execution_count": 6,
   "id": "southern-cradle",
   "metadata": {},
   "outputs": [],
   "source": [
    "df['log_income'] = np.log(df['income']+1)\n",
    "df = df.loc[:, df.columns != 'income']"
   ]
  },
  {
   "cell_type": "code",
   "execution_count": 7,
   "id": "expired-class",
   "metadata": {
    "scrolled": true
   },
   "outputs": [
    {
     "data": {
      "text/plain": [
       "<AxesSubplot:ylabel='Frequency'>"
      ]
     },
     "execution_count": 7,
     "metadata": {},
     "output_type": "execute_result"
    },
    {
     "data": {
      "image/png": "[encoded data removed]",
      "text/plain": [
       "<Figure size 432x288 with 1 Axes>"
      ]
     },
     "metadata": {},
     "output_type": "display_data"
    }
   ],
   "source": [
    "df.log_income.plot.hist()"
   ]
  },
  {
   "cell_type": "code",
   "execution_count": 8,
   "id": "placed-orientation",
   "metadata": {},
   "outputs": [
    {
     "data": {
      "text/html": [
       "<div>\n",
       "<style scoped>\n",
       "    .dataframe tbody tr th:only-of-type {\n",
       "        vertical-align: middle;\n",
       "    }\n",
       "\n",
       "    .dataframe tbody tr th {\n",
       "        vertical-align: top;\n",
       "    }\n",
       "\n",
       "    .dataframe thead th {\n",
       "        text-align: right;\n",
       "    }\n",
       "</style>\n",
       "<table border=\"1\" class=\"dataframe\">\n",
       "  <thead>\n",
       "    <tr style=\"text-align: right;\">\n",
       "      <th></th>\n",
       "      <th>sex</th>\n",
       "      <th>marital</th>\n",
       "      <th>social3</th>\n",
       "      <th>default</th>\n",
       "      <th>employment_employed</th>\n",
       "      <th>employment_retired</th>\n",
       "      <th>employment_student</th>\n",
       "      <th>employment_unemployed</th>\n",
       "      <th>log_income</th>\n",
       "    </tr>\n",
       "  </thead>\n",
       "  <tbody>\n",
       "    <tr>\n",
       "      <th>0</th>\n",
       "      <td>1</td>\n",
       "      <td>0</td>\n",
       "      <td>0.732502</td>\n",
       "      <td>0</td>\n",
       "      <td>0</td>\n",
       "      <td>0</td>\n",
       "      <td>0</td>\n",
       "      <td>1</td>\n",
       "      <td>8.605021</td>\n",
       "    </tr>\n",
       "    <tr>\n",
       "      <th>1</th>\n",
       "      <td>1</td>\n",
       "      <td>1</td>\n",
       "      <td>0.615449</td>\n",
       "      <td>0</td>\n",
       "      <td>1</td>\n",
       "      <td>0</td>\n",
       "      <td>0</td>\n",
       "      <td>0</td>\n",
       "      <td>10.170035</td>\n",
       "    </tr>\n",
       "    <tr>\n",
       "      <th>2</th>\n",
       "      <td>1</td>\n",
       "      <td>1</td>\n",
       "      <td>0.174645</td>\n",
       "      <td>0</td>\n",
       "      <td>1</td>\n",
       "      <td>0</td>\n",
       "      <td>0</td>\n",
       "      <td>0</td>\n",
       "      <td>9.376787</td>\n",
       "    </tr>\n",
       "    <tr>\n",
       "      <th>3</th>\n",
       "      <td>1</td>\n",
       "      <td>1</td>\n",
       "      <td>0.216376</td>\n",
       "      <td>0</td>\n",
       "      <td>0</td>\n",
       "      <td>0</td>\n",
       "      <td>0</td>\n",
       "      <td>1</td>\n",
       "      <td>8.589700</td>\n",
       "    </tr>\n",
       "    <tr>\n",
       "      <th>4</th>\n",
       "      <td>0</td>\n",
       "      <td>1</td>\n",
       "      <td>0.346708</td>\n",
       "      <td>1</td>\n",
       "      <td>0</td>\n",
       "      <td>1</td>\n",
       "      <td>0</td>\n",
       "      <td>0</td>\n",
       "      <td>8.149024</td>\n",
       "    </tr>\n",
       "  </tbody>\n",
       "</table>\n",
       "</div>"
      ],
      "text/plain": [
       "   sex  marital   social3  default  employment_employed  employment_retired  \\\n",
       "0    1        0  0.732502        0                    0                   0   \n",
       "1    1        1  0.615449        0                    1                   0   \n",
       "2    1        1  0.174645        0                    1                   0   \n",
       "3    1        1  0.216376        0                    0                   0   \n",
       "4    0        1  0.346708        1                    0                   1   \n",
       "\n",
       "   employment_student  employment_unemployed  log_income  \n",
       "0                   0                      1    8.605021  \n",
       "1                   0                      0   10.170035  \n",
       "2                   0                      0    9.376787  \n",
       "3                   0                      1    8.589700  \n",
       "4                   0                      0    8.149024  "
      ]
     },
     "execution_count": 8,
     "metadata": {},
     "output_type": "execute_result"
    }
   ],
   "source": [
    "df.head(5)"
   ]
  },
  {
   "cell_type": "code",
   "execution_count": 9,
   "id": "novel-accident",
   "metadata": {},
   "outputs": [
    {
     "data": {
      "text/html": [
       "<div>\n",
       "<style scoped>\n",
       "    .dataframe tbody tr th:only-of-type {\n",
       "        vertical-align: middle;\n",
       "    }\n",
       "\n",
       "    .dataframe tbody tr th {\n",
       "        vertical-align: top;\n",
       "    }\n",
       "\n",
       "    .dataframe thead th {\n",
       "        text-align: right;\n",
       "    }\n",
       "</style>\n",
       "<table border=\"1\" class=\"dataframe\">\n",
       "  <thead>\n",
       "    <tr style=\"text-align: right;\">\n",
       "      <th></th>\n",
       "      <th>sex</th>\n",
       "      <th>marital</th>\n",
       "      <th>social3</th>\n",
       "      <th>default</th>\n",
       "      <th>employment_employed</th>\n",
       "      <th>employment_retired</th>\n",
       "      <th>employment_student</th>\n",
       "      <th>employment_unemployed</th>\n",
       "      <th>log_income</th>\n",
       "    </tr>\n",
       "  </thead>\n",
       "  <tbody>\n",
       "    <tr>\n",
       "      <th>count</th>\n",
       "      <td>100000.000000</td>\n",
       "      <td>100000.000000</td>\n",
       "      <td>100000.000000</td>\n",
       "      <td>100000.000000</td>\n",
       "      <td>100000.000000</td>\n",
       "      <td>100000.000000</td>\n",
       "      <td>100000.000000</td>\n",
       "      <td>100000.000000</td>\n",
       "      <td>100000.000000</td>\n",
       "    </tr>\n",
       "    <tr>\n",
       "      <th>mean</th>\n",
       "      <td>0.725190</td>\n",
       "      <td>0.610080</td>\n",
       "      <td>0.414410</td>\n",
       "      <td>0.196320</td>\n",
       "      <td>0.614850</td>\n",
       "      <td>0.112030</td>\n",
       "      <td>0.159840</td>\n",
       "      <td>0.113280</td>\n",
       "      <td>8.042560</td>\n",
       "    </tr>\n",
       "    <tr>\n",
       "      <th>std</th>\n",
       "      <td>0.446421</td>\n",
       "      <td>0.487734</td>\n",
       "      <td>0.324663</td>\n",
       "      <td>0.397215</td>\n",
       "      <td>0.486633</td>\n",
       "      <td>0.315405</td>\n",
       "      <td>0.366459</td>\n",
       "      <td>0.316936</td>\n",
       "      <td>3.526420</td>\n",
       "    </tr>\n",
       "    <tr>\n",
       "      <th>min</th>\n",
       "      <td>0.000000</td>\n",
       "      <td>0.000000</td>\n",
       "      <td>0.000000</td>\n",
       "      <td>0.000000</td>\n",
       "      <td>0.000000</td>\n",
       "      <td>0.000000</td>\n",
       "      <td>0.000000</td>\n",
       "      <td>0.000000</td>\n",
       "      <td>0.000000</td>\n",
       "    </tr>\n",
       "    <tr>\n",
       "      <th>25%</th>\n",
       "      <td>0.000000</td>\n",
       "      <td>0.000000</td>\n",
       "      <td>0.060052</td>\n",
       "      <td>0.000000</td>\n",
       "      <td>0.000000</td>\n",
       "      <td>0.000000</td>\n",
       "      <td>0.000000</td>\n",
       "      <td>0.000000</td>\n",
       "      <td>8.669227</td>\n",
       "    </tr>\n",
       "    <tr>\n",
       "      <th>50%</th>\n",
       "      <td>1.000000</td>\n",
       "      <td>1.000000</td>\n",
       "      <td>0.440763</td>\n",
       "      <td>0.000000</td>\n",
       "      <td>1.000000</td>\n",
       "      <td>0.000000</td>\n",
       "      <td>0.000000</td>\n",
       "      <td>0.000000</td>\n",
       "      <td>9.191259</td>\n",
       "    </tr>\n",
       "    <tr>\n",
       "      <th>75%</th>\n",
       "      <td>1.000000</td>\n",
       "      <td>1.000000</td>\n",
       "      <td>0.691053</td>\n",
       "      <td>0.000000</td>\n",
       "      <td>1.000000</td>\n",
       "      <td>0.000000</td>\n",
       "      <td>0.000000</td>\n",
       "      <td>0.000000</td>\n",
       "      <td>9.807981</td>\n",
       "    </tr>\n",
       "    <tr>\n",
       "      <th>max</th>\n",
       "      <td>1.000000</td>\n",
       "      <td>1.000000</td>\n",
       "      <td>0.999980</td>\n",
       "      <td>1.000000</td>\n",
       "      <td>1.000000</td>\n",
       "      <td>1.000000</td>\n",
       "      <td>1.000000</td>\n",
       "      <td>1.000000</td>\n",
       "      <td>13.815512</td>\n",
       "    </tr>\n",
       "  </tbody>\n",
       "</table>\n",
       "</div>"
      ],
      "text/plain": [
       "                 sex        marital        social3        default  \\\n",
       "count  100000.000000  100000.000000  100000.000000  100000.000000   \n",
       "mean        0.725190       0.610080       0.414410       0.196320   \n",
       "std         0.446421       0.487734       0.324663       0.397215   \n",
       "min         0.000000       0.000000       0.000000       0.000000   \n",
       "25%         0.000000       0.000000       0.060052       0.000000   \n",
       "50%         1.000000       1.000000       0.440763       0.000000   \n",
       "75%         1.000000       1.000000       0.691053       0.000000   \n",
       "max         1.000000       1.000000       0.999980       1.000000   \n",
       "\n",
       "       employment_employed  employment_retired  employment_student  \\\n",
       "count        100000.000000       100000.000000       100000.000000   \n",
       "mean              0.614850            0.112030            0.159840   \n",
       "std               0.486633            0.315405            0.366459   \n",
       "min               0.000000            0.000000            0.000000   \n",
       "25%               0.000000            0.000000            0.000000   \n",
       "50%               1.000000            0.000000            0.000000   \n",
       "75%               1.000000            0.000000            0.000000   \n",
       "max               1.000000            1.000000            1.000000   \n",
       "\n",
       "       employment_unemployed     log_income  \n",
       "count          100000.000000  100000.000000  \n",
       "mean                0.113280       8.042560  \n",
       "std                 0.316936       3.526420  \n",
       "min                 0.000000       0.000000  \n",
       "25%                 0.000000       8.669227  \n",
       "50%                 0.000000       9.191259  \n",
       "75%                 0.000000       9.807981  \n",
       "max                 1.000000      13.815512  "
      ]
     },
     "execution_count": 9,
     "metadata": {},
     "output_type": "execute_result"
    }
   ],
   "source": [
    "df.describe()"
   ]
  },
  {
   "cell_type": "markdown",
   "id": "automated-quilt",
   "metadata": {},
   "source": [
    "- No missing values\n",
    "- Mainly male profiles\n",
    "- Mainly married persons\n",
    "- Mainly employed \n",
    "- 19% of default payments"
   ]
  },
  {
   "cell_type": "code",
   "execution_count": 11,
   "id": "imported-credit",
   "metadata": {},
   "outputs": [],
   "source": [
    "X = df.loc[:, df.columns != 'default']\n",
    "y = df['default']"
   ]
  },
  {
   "cell_type": "code",
   "execution_count": 12,
   "id": "important-usage",
   "metadata": {},
   "outputs": [
    {
     "data": {
      "text/plain": [
       "<AxesSubplot:>"
      ]
     },
     "execution_count": 12,
     "metadata": {},
     "output_type": "execute_result"
    },
    {
     "data": {
      "image/png": "[encoded data removed]",
      "text/plain": [
       "<Figure size 576x576 with 2 Axes>"
      ]
     },
     "metadata": {},
     "output_type": "display_data"
    }
   ],
   "source": [
    "plt.figure(figsize=(8,8))\n",
    "corrMatrix = X.corr()\n",
    "sns.heatmap(corrMatrix, annot=True, square=True)"
   ]
  },
  {
   "cell_type": "markdown",
   "id": "persistent-transaction",
   "metadata": {},
   "source": [
    "Bit of multicollinearity between the indep variables, we could remove some var to remove coll"
   ]
  },
  {
   "cell_type": "markdown",
   "id": "fluid-mortgage",
   "metadata": {},
   "source": [
    "## Regression"
   ]
  },
  {
   "cell_type": "markdown",
   "id": "explicit-hampton",
   "metadata": {},
   "source": [
    "As target is bin, better to take logistic regression. Tried with OLS and random forest, but results were worse"
   ]
  },
  {
   "cell_type": "code",
   "execution_count": 13,
   "id": "adjustable-newman",
   "metadata": {},
   "outputs": [
    {
     "name": "stdout",
     "output_type": "stream",
     "text": [
      "Optimization terminated successfully.\n",
      "         Current function value: 0.465668\n",
      "         Iterations 6\n",
      "                           Logit Regression Results                           \n",
      "==============================================================================\n",
      "Dep. Variable:                default   No. Observations:               100000\n",
      "Model:                          Logit   Df Residuals:                    99992\n",
      "Method:                           MLE   Df Model:                            7\n",
      "Date:                Sat, 23 Apr 2022   Pseudo R-squ.:                 0.05975\n",
      "Time:                        16:56:55   Log-Likelihood:                -46567.\n",
      "converged:                       True   LL-Null:                       -49526.\n",
      "Covariance Type:            nonrobust   LLR p-value:                     0.000\n",
      "=========================================================================================\n",
      "                            coef    std err          z      P>|z|      [0.025      0.975]\n",
      "-----------------------------------------------------------------------------------------\n",
      "const                     0.7261      0.043     17.009      0.000       0.642       0.810\n",
      "sex                      -0.0479      0.018     -2.617      0.009      -0.084      -0.012\n",
      "marital                  -0.1033      0.019     -5.414      0.000      -0.141      -0.066\n",
      "social3                  -0.7412      0.028    -26.942      0.000      -0.795      -0.687\n",
      "employment_retired       -0.2089      0.028     -7.505      0.000      -0.263      -0.154\n",
      "employment_student       -0.8409      0.039    -21.514      0.000      -0.917      -0.764\n",
      "employment_unemployed    -0.3713      0.034    -10.800      0.000      -0.439      -0.304\n",
      "log_income               -0.2027      0.004    -55.653      0.000      -0.210      -0.196\n",
      "=========================================================================================\n"
     ]
    }
   ],
   "source": [
    "est = sm.Logit(y, sm.add_constant(X).drop(['employment_employed'], axis=1))\n",
    "fit = est.fit()\n",
    "print(fit.summary())"
   ]
  },
  {
   "cell_type": "code",
   "execution_count": 292,
   "id": "restricted-cursor",
   "metadata": {},
   "outputs": [
    {
     "name": "stdout",
     "output_type": "stream",
     "text": [
      "Accuracy Score :  0.806\n"
     ]
    }
   ],
   "source": [
    "X_train, X_test, y_train, y_test = train_test_split(X, y, test_size=0.3, random_state=10)\n",
    "\n",
    "model = LogisticRegression()\n",
    "model.fit(X_train, y_train)\n",
    "\n",
    "y_pred = model.predict(X_test)\n",
    "\n",
    "print('Accuracy Score : ', round(accuracy_score(y_pred,y_test),3))"
   ]
  },
  {
   "cell_type": "markdown",
   "id": "sorted-guarantee",
   "metadata": {},
   "source": [
    "## Find threshold & rates"
   ]
  },
  {
   "cell_type": "code",
   "execution_count": 353,
   "id": "excellent-butler",
   "metadata": {},
   "outputs": [],
   "source": [
    "preds = pd.DataFrame(model.predict_proba(X_test)[:,1], columns = ['prob_default'])\n",
    "preds['true_loan_status'] = list(y_test)"
   ]
  },
  {
   "cell_type": "code",
   "execution_count": 354,
   "id": "based-smooth",
   "metadata": {},
   "outputs": [],
   "source": [
    "accept_rates = np.arange(0.05,0.95, 0.01)\n",
    "thresholds = []\n",
    "num_accepted = []\n",
    "profit = []\n",
    "precision = [] \n",
    "recall = []\n",
    "f1_score = []\n",
    "\n",
    "amount = 10000  # value of loan\n",
    "\n",
    "for r in accept_rates :\n",
    "    \n",
    "    threshold = np.quantile(preds['prob_default'], r)\n",
    "    thresholds.append(threshold)\n",
    "    preds['pred_loan_status'] = preds['prob_default'].apply(lambda x: 1 if x > threshold else 0)\n",
    "    \n",
    "    num = len(preds[preds['prob_default'] < np.quantile(preds['prob_default'], r)])\n",
    "    num_accepted.append(num)\n",
    "        \n",
    "    rates = preds['prob_default']\n",
    "    preds['rates'] = 0.95 * np.log(rates+1)  # apply log to proba rate\n",
    "    preds.loc[preds['pred_loan_status'] == 1, 'rates'] = float(\"Inf\")\n",
    "    \n",
    "    precision.append(metrics.precision_score(preds['pred_loan_status'], preds['true_loan_status'], pos_label=0))\n",
    "    recall.append(metrics.recall_score(preds['pred_loan_status'], preds['true_loan_status'], pos_label=0))\n",
    "    f1_score.append(metrics.f1_score(preds['pred_loan_status'], preds['true_loan_status'], pos_label=0))\n",
    "    \n",
    "    loss = amount*len(preds.loc[(preds['true_loan_status'] == 1) & (preds['pred_loan_status'] == 0)])\n",
    "    gain = (preds.loc[(preds['true_loan_status'] == 0) & (preds['pred_loan_status'] == 0)]['rates'] * amount).sum()\n",
    "    tot = gain - loss\n",
    "    profit.append(tot)"
   ]
  },
  {
   "cell_type": "code",
   "execution_count": 355,
   "id": "civil-worst",
   "metadata": {},
   "outputs": [],
   "source": [
    "res = pd.DataFrame(zip(accept_rates, thresholds, num_accepted, profit, precision, recall, f1_score), columns = \n",
    "                  ['accept_rates', 'thresholds', 'num_accepted', 'profit', 'precision', 'recall', 'f1_score'])"
   ]
  },
  {
   "cell_type": "code",
   "execution_count": 356,
   "id": "valuable-beverage",
   "metadata": {},
   "outputs": [
    {
     "data": {
      "text/html": [
       "<div>\n",
       "<style scoped>\n",
       "    .dataframe tbody tr th:only-of-type {\n",
       "        vertical-align: middle;\n",
       "    }\n",
       "\n",
       "    .dataframe tbody tr th {\n",
       "        vertical-align: top;\n",
       "    }\n",
       "\n",
       "    .dataframe thead th {\n",
       "        text-align: right;\n",
       "    }\n",
       "</style>\n",
       "<table border=\"1\" class=\"dataframe\">\n",
       "  <thead>\n",
       "    <tr style=\"text-align: right;\">\n",
       "      <th></th>\n",
       "      <th>accept_rates</th>\n",
       "      <th>thresholds</th>\n",
       "      <th>num_accepted</th>\n",
       "      <th>profit</th>\n",
       "      <th>precision</th>\n",
       "      <th>recall</th>\n",
       "      <th>f1_score</th>\n",
       "    </tr>\n",
       "  </thead>\n",
       "  <tbody>\n",
       "    <tr>\n",
       "      <th>0</th>\n",
       "      <td>0.05</td>\n",
       "      <td>0.086722</td>\n",
       "      <td>1500</td>\n",
       "      <td>-3.899316e+05</td>\n",
       "      <td>0.056902</td>\n",
       "      <td>0.917333</td>\n",
       "      <td>0.107157</td>\n",
       "    </tr>\n",
       "    <tr>\n",
       "      <th>1</th>\n",
       "      <td>0.06</td>\n",
       "      <td>0.092231</td>\n",
       "      <td>1800</td>\n",
       "      <td>-3.942292e+05</td>\n",
       "      <td>0.068357</td>\n",
       "      <td>0.918333</td>\n",
       "      <td>0.127242</td>\n",
       "    </tr>\n",
       "    <tr>\n",
       "      <th>2</th>\n",
       "      <td>0.07</td>\n",
       "      <td>0.097128</td>\n",
       "      <td>2100</td>\n",
       "      <td>-4.077871e+05</td>\n",
       "      <td>0.079729</td>\n",
       "      <td>0.918095</td>\n",
       "      <td>0.146716</td>\n",
       "    </tr>\n",
       "    <tr>\n",
       "      <th>3</th>\n",
       "      <td>0.08</td>\n",
       "      <td>0.101266</td>\n",
       "      <td>2400</td>\n",
       "      <td>-3.668624e+05</td>\n",
       "      <td>0.091266</td>\n",
       "      <td>0.919583</td>\n",
       "      <td>0.166052</td>\n",
       "    </tr>\n",
       "    <tr>\n",
       "      <th>4</th>\n",
       "      <td>0.09</td>\n",
       "      <td>0.104557</td>\n",
       "      <td>2700</td>\n",
       "      <td>-1.969511e+05</td>\n",
       "      <td>0.103259</td>\n",
       "      <td>0.924815</td>\n",
       "      <td>0.185775</td>\n",
       "    </tr>\n",
       "    <tr>\n",
       "      <th>...</th>\n",
       "      <td>...</td>\n",
       "      <td>...</td>\n",
       "      <td>...</td>\n",
       "      <td>...</td>\n",
       "      <td>...</td>\n",
       "      <td>...</td>\n",
       "      <td>...</td>\n",
       "    </tr>\n",
       "    <tr>\n",
       "      <th>85</th>\n",
       "      <td>0.90</td>\n",
       "      <td>0.323501</td>\n",
       "      <td>27000</td>\n",
       "      <td>-1.371562e+07</td>\n",
       "      <td>0.927012</td>\n",
       "      <td>0.830259</td>\n",
       "      <td>0.875972</td>\n",
       "    </tr>\n",
       "    <tr>\n",
       "      <th>86</th>\n",
       "      <td>0.91</td>\n",
       "      <td>0.339996</td>\n",
       "      <td>27300</td>\n",
       "      <td>-1.395765e+07</td>\n",
       "      <td>0.935985</td>\n",
       "      <td>0.829084</td>\n",
       "      <td>0.879298</td>\n",
       "    </tr>\n",
       "    <tr>\n",
       "      <th>87</th>\n",
       "      <td>0.92</td>\n",
       "      <td>0.376890</td>\n",
       "      <td>27600</td>\n",
       "      <td>-1.446630e+07</td>\n",
       "      <td>0.943967</td>\n",
       "      <td>0.827065</td>\n",
       "      <td>0.881658</td>\n",
       "    </tr>\n",
       "    <tr>\n",
       "      <th>88</th>\n",
       "      <td>0.93</td>\n",
       "      <td>0.405008</td>\n",
       "      <td>27900</td>\n",
       "      <td>-1.503514e+07</td>\n",
       "      <td>0.951617</td>\n",
       "      <td>0.824803</td>\n",
       "      <td>0.883683</td>\n",
       "    </tr>\n",
       "    <tr>\n",
       "      <th>89</th>\n",
       "      <td>0.94</td>\n",
       "      <td>0.425800</td>\n",
       "      <td>28200</td>\n",
       "      <td>-1.555969e+07</td>\n",
       "      <td>0.959309</td>\n",
       "      <td>0.822624</td>\n",
       "      <td>0.885724</td>\n",
       "    </tr>\n",
       "  </tbody>\n",
       "</table>\n",
       "<p>90 rows × 7 columns</p>\n",
       "</div>"
      ],
      "text/plain": [
       "    accept_rates  thresholds  num_accepted        profit  precision    recall  \\\n",
       "0           0.05    0.086722          1500 -3.899316e+05   0.056902  0.917333   \n",
       "1           0.06    0.092231          1800 -3.942292e+05   0.068357  0.918333   \n",
       "2           0.07    0.097128          2100 -4.077871e+05   0.079729  0.918095   \n",
       "3           0.08    0.101266          2400 -3.668624e+05   0.091266  0.919583   \n",
       "4           0.09    0.104557          2700 -1.969511e+05   0.103259  0.924815   \n",
       "..           ...         ...           ...           ...        ...       ...   \n",
       "85          0.90    0.323501         27000 -1.371562e+07   0.927012  0.830259   \n",
       "86          0.91    0.339996         27300 -1.395765e+07   0.935985  0.829084   \n",
       "87          0.92    0.376890         27600 -1.446630e+07   0.943967  0.827065   \n",
       "88          0.93    0.405008         27900 -1.503514e+07   0.951617  0.824803   \n",
       "89          0.94    0.425800         28200 -1.555969e+07   0.959309  0.822624   \n",
       "\n",
       "    f1_score  \n",
       "0   0.107157  \n",
       "1   0.127242  \n",
       "2   0.146716  \n",
       "3   0.166052  \n",
       "4   0.185775  \n",
       "..       ...  \n",
       "85  0.875972  \n",
       "86  0.879298  \n",
       "87  0.881658  \n",
       "88  0.883683  \n",
       "89  0.885724  \n",
       "\n",
       "[90 rows x 7 columns]"
      ]
     },
     "execution_count": 356,
     "metadata": {},
     "output_type": "execute_result"
    }
   ],
   "source": [
    "res"
   ]
  },
  {
   "cell_type": "code",
   "execution_count": 357,
   "id": "distributed-hammer",
   "metadata": {},
   "outputs": [
    {
     "data": {
      "image/png": "[encoded data removed]",
      "text/plain": [
       "<Figure size 432x288 with 1 Axes>"
      ]
     },
     "metadata": {},
     "output_type": "display_data"
    }
   ],
   "source": [
    "plt.plot(res.accept_rates, res.precision, label='precision')\n",
    "plt.plot(res.accept_rates, res.recall, label='recall')\n",
    "plt.plot(res.accept_rates, res.f1_score, label='f1_score')\n",
    "plt.legend()\n",
    "plt.show()"
   ]
  },
  {
   "cell_type": "code",
   "execution_count": 358,
   "id": "australian-toolbox",
   "metadata": {},
   "outputs": [
    {
     "data": {
      "image/png": "[encoded data removed]",
      "text/plain": [
       "<Figure size 432x288 with 1 Axes>"
      ]
     },
     "metadata": {},
     "output_type": "display_data"
    }
   ],
   "source": [
    "plt.plot(res.accept_rates, res.profit)\n",
    "plt.title('Profit evolution according to acceptance rate (log rates)')\n",
    "plt.show()"
   ]
  },
  {
   "cell_type": "markdown",
   "id": "ahead-geneva",
   "metadata": {},
   "source": [
    "Set accept rate to approx 35% (bit higher than real max as we will loose contracts because of types of clients)."
   ]
  },
  {
   "cell_type": "code",
   "execution_count": 313,
   "id": "intensive-status",
   "metadata": {},
   "outputs": [
    {
     "name": "stdout",
     "output_type": "stream",
     "text": [
      "threshold :  0.1442\n"
     ]
    },
    {
     "data": {
      "image/png": "[encoded data removed]",
      "text/plain": [
       "<Figure size 432x288 with 1 Axes>"
      ]
     },
     "metadata": {},
     "output_type": "display_data"
    }
   ],
   "source": [
    "plt.hist(preds['prob_default'], bins = 50)\n",
    "plt.title('Hist of probabilities of loans and final threshold')\n",
    "threshold = np.quantile(preds['prob_default'], 0.3)\n",
    "print('threshold : ', round(threshold, 4))\n",
    "plt.axvline(x = threshold, color = 'red')\n",
    "plt.show()"
   ]
  },
  {
   "cell_type": "code",
   "execution_count": 350,
   "id": "soviet-lloyd",
   "metadata": {},
   "outputs": [
    {
     "name": "stdout",
     "output_type": "stream",
     "text": [
      "              precision    recall  f1-score   support\n",
      "\n",
      "           0       0.96      0.82      0.89     28200\n",
      "           1       0.14      0.45      0.21      1800\n",
      "\n",
      "    accuracy                           0.80     30000\n",
      "   macro avg       0.55      0.64      0.55     30000\n",
      "weighted avg       0.91      0.80      0.85     30000\n",
      "\n",
      "[[23198  5002]\n",
      " [  984   816]]\n",
      "Accuracy Score :  0.8\n"
     ]
    }
   ],
   "source": [
    "preds['pred_loan_status'] = preds['prob_default'].apply(lambda x: 1 if x > threshold else 0)\n",
    "print(classification_report(preds['pred_loan_status'], preds['true_loan_status']))\n",
    "print(confusion_matrix(preds['pred_loan_status'], preds['true_loan_status']))\n",
    "print('Accuracy Score : ', round(accuracy_score(preds['pred_loan_status'], preds['true_loan_status']),3))"
   ]
  },
  {
   "cell_type": "code",
   "execution_count": 351,
   "id": "japanese-biotechnology",
   "metadata": {},
   "outputs": [
    {
     "name": "stdout",
     "output_type": "stream",
     "text": [
      "0.9593085766272434\n"
     ]
    }
   ],
   "source": [
    "print(metrics.precision_score(preds['pred_loan_status'], preds['true_loan_status'], pos_label=0))\n",
    "#metrics.recall_score(preds['pred_loan_status'], preds['true_loan_status'])\n",
    "#metrics.f1_score(preds['pred_loan_status'], preds['true_loan_status'])"
   ]
  },
  {
   "cell_type": "markdown",
   "id": "three-milan",
   "metadata": {},
   "source": [
    "Accuracy is worse but there is a much lower number of false positives"
   ]
  },
  {
   "cell_type": "markdown",
   "id": "humanitarian-cable",
   "metadata": {},
   "source": [
    "## Apply to dataset"
   ]
  },
  {
   "cell_type": "code",
   "execution_count": 315,
   "id": "popular-boring",
   "metadata": {},
   "outputs": [],
   "source": [
    "upload = pd.read_csv('LoanApplications_Stage1_Lender3.csv')\n",
    "data = upload"
   ]
  },
  {
   "cell_type": "code",
   "execution_count": 316,
   "id": "acceptable-spotlight",
   "metadata": {},
   "outputs": [],
   "source": [
    "data = pd.get_dummies(data)\n",
    "data = data.drop(['id'], axis=1)\n",
    "data['log_income'] = np.log(data['income']+1)\n",
    "data = data.loc[:, data.columns != 'income']"
   ]
  },
  {
   "cell_type": "code",
   "execution_count": 317,
   "id": "motivated-seeking",
   "metadata": {},
   "outputs": [
    {
     "data": {
      "text/html": [
       "<div>\n",
       "<style scoped>\n",
       "    .dataframe tbody tr th:only-of-type {\n",
       "        vertical-align: middle;\n",
       "    }\n",
       "\n",
       "    .dataframe tbody tr th {\n",
       "        vertical-align: top;\n",
       "    }\n",
       "\n",
       "    .dataframe thead th {\n",
       "        text-align: right;\n",
       "    }\n",
       "</style>\n",
       "<table border=\"1\" class=\"dataframe\">\n",
       "  <thead>\n",
       "    <tr style=\"text-align: right;\">\n",
       "      <th></th>\n",
       "      <th>sex</th>\n",
       "      <th>marital</th>\n",
       "      <th>social3</th>\n",
       "      <th>employment_employed</th>\n",
       "      <th>employment_retired</th>\n",
       "      <th>employment_student</th>\n",
       "      <th>employment_unemployed</th>\n",
       "      <th>log_income</th>\n",
       "    </tr>\n",
       "  </thead>\n",
       "  <tbody>\n",
       "    <tr>\n",
       "      <th>0</th>\n",
       "      <td>1</td>\n",
       "      <td>1</td>\n",
       "      <td>0.889338</td>\n",
       "      <td>1</td>\n",
       "      <td>0</td>\n",
       "      <td>0</td>\n",
       "      <td>0</td>\n",
       "      <td>8.960339</td>\n",
       "    </tr>\n",
       "    <tr>\n",
       "      <th>1</th>\n",
       "      <td>1</td>\n",
       "      <td>1</td>\n",
       "      <td>0.223372</td>\n",
       "      <td>0</td>\n",
       "      <td>1</td>\n",
       "      <td>0</td>\n",
       "      <td>0</td>\n",
       "      <td>9.136371</td>\n",
       "    </tr>\n",
       "    <tr>\n",
       "      <th>2</th>\n",
       "      <td>1</td>\n",
       "      <td>1</td>\n",
       "      <td>0.000000</td>\n",
       "      <td>1</td>\n",
       "      <td>0</td>\n",
       "      <td>0</td>\n",
       "      <td>0</td>\n",
       "      <td>10.149840</td>\n",
       "    </tr>\n",
       "    <tr>\n",
       "      <th>3</th>\n",
       "      <td>1</td>\n",
       "      <td>1</td>\n",
       "      <td>0.274015</td>\n",
       "      <td>1</td>\n",
       "      <td>0</td>\n",
       "      <td>0</td>\n",
       "      <td>0</td>\n",
       "      <td>10.962354</td>\n",
       "    </tr>\n",
       "    <tr>\n",
       "      <th>4</th>\n",
       "      <td>1</td>\n",
       "      <td>0</td>\n",
       "      <td>0.208616</td>\n",
       "      <td>0</td>\n",
       "      <td>1</td>\n",
       "      <td>0</td>\n",
       "      <td>0</td>\n",
       "      <td>8.279951</td>\n",
       "    </tr>\n",
       "  </tbody>\n",
       "</table>\n",
       "</div>"
      ],
      "text/plain": [
       "   sex  marital   social3  employment_employed  employment_retired  \\\n",
       "0    1        1  0.889338                    1                   0   \n",
       "1    1        1  0.223372                    0                   1   \n",
       "2    1        1  0.000000                    1                   0   \n",
       "3    1        1  0.274015                    1                   0   \n",
       "4    1        0  0.208616                    0                   1   \n",
       "\n",
       "   employment_student  employment_unemployed  log_income  \n",
       "0                   0                      0    8.960339  \n",
       "1                   0                      0    9.136371  \n",
       "2                   0                      0   10.149840  \n",
       "3                   0                      0   10.962354  \n",
       "4                   0                      0    8.279951  "
      ]
     },
     "execution_count": 317,
     "metadata": {},
     "output_type": "execute_result"
    }
   ],
   "source": [
    "data.head(5)"
   ]
  },
  {
   "cell_type": "code",
   "execution_count": 318,
   "id": "civil-interference",
   "metadata": {},
   "outputs": [],
   "source": [
    "data_pred = pd.DataFrame(model.predict_proba(data)[:,1], columns = ['prob_default'])\n",
    "data_pred['pred_loan_status'] = data_pred['prob_default'].apply(lambda x: 1 if x > threshold else 0)\n",
    "rate = data_pred['prob_default']\n",
    "data_pred['rate'] = 0.95 * np.log(1+rate)\n",
    "data_pred.loc[data_pred['pred_loan_status'] == 1, 'rate'] = float(\"Inf\")"
   ]
  },
  {
   "cell_type": "code",
   "execution_count": 319,
   "id": "robust-shelf",
   "metadata": {},
   "outputs": [
    {
     "data": {
      "text/html": [
       "<div>\n",
       "<style scoped>\n",
       "    .dataframe tbody tr th:only-of-type {\n",
       "        vertical-align: middle;\n",
       "    }\n",
       "\n",
       "    .dataframe tbody tr th {\n",
       "        vertical-align: top;\n",
       "    }\n",
       "\n",
       "    .dataframe thead th {\n",
       "        text-align: right;\n",
       "    }\n",
       "</style>\n",
       "<table border=\"1\" class=\"dataframe\">\n",
       "  <thead>\n",
       "    <tr style=\"text-align: right;\">\n",
       "      <th></th>\n",
       "      <th>prob_default</th>\n",
       "      <th>pred_loan_status</th>\n",
       "      <th>rate</th>\n",
       "    </tr>\n",
       "  </thead>\n",
       "  <tbody>\n",
       "    <tr>\n",
       "      <th>0</th>\n",
       "      <td>0.132435</td>\n",
       "      <td>0</td>\n",
       "      <td>0.118152</td>\n",
       "    </tr>\n",
       "    <tr>\n",
       "      <th>1</th>\n",
       "      <td>0.161698</td>\n",
       "      <td>1</td>\n",
       "      <td>inf</td>\n",
       "    </tr>\n",
       "    <tr>\n",
       "      <th>2</th>\n",
       "      <td>0.188528</td>\n",
       "      <td>1</td>\n",
       "      <td>inf</td>\n",
       "    </tr>\n",
       "    <tr>\n",
       "      <th>3</th>\n",
       "      <td>0.138246</td>\n",
       "      <td>0</td>\n",
       "      <td>0.123014</td>\n",
       "    </tr>\n",
       "    <tr>\n",
       "      <th>4</th>\n",
       "      <td>0.203398</td>\n",
       "      <td>1</td>\n",
       "      <td>inf</td>\n",
       "    </tr>\n",
       "    <tr>\n",
       "      <th>...</th>\n",
       "      <td>...</td>\n",
       "      <td>...</td>\n",
       "      <td>...</td>\n",
       "    </tr>\n",
       "    <tr>\n",
       "      <th>99995</th>\n",
       "      <td>0.145444</td>\n",
       "      <td>1</td>\n",
       "      <td>inf</td>\n",
       "    </tr>\n",
       "    <tr>\n",
       "      <th>99996</th>\n",
       "      <td>0.290408</td>\n",
       "      <td>1</td>\n",
       "      <td>inf</td>\n",
       "    </tr>\n",
       "    <tr>\n",
       "      <th>99997</th>\n",
       "      <td>0.162268</td>\n",
       "      <td>1</td>\n",
       "      <td>inf</td>\n",
       "    </tr>\n",
       "    <tr>\n",
       "      <th>99998</th>\n",
       "      <td>0.101514</td>\n",
       "      <td>0</td>\n",
       "      <td>0.091851</td>\n",
       "    </tr>\n",
       "    <tr>\n",
       "      <th>99999</th>\n",
       "      <td>0.139073</td>\n",
       "      <td>0</td>\n",
       "      <td>0.123704</td>\n",
       "    </tr>\n",
       "  </tbody>\n",
       "</table>\n",
       "<p>100000 rows × 3 columns</p>\n",
       "</div>"
      ],
      "text/plain": [
       "       prob_default  pred_loan_status      rate\n",
       "0          0.132435                 0  0.118152\n",
       "1          0.161698                 1       inf\n",
       "2          0.188528                 1       inf\n",
       "3          0.138246                 0  0.123014\n",
       "4          0.203398                 1       inf\n",
       "...             ...               ...       ...\n",
       "99995      0.145444                 1       inf\n",
       "99996      0.290408                 1       inf\n",
       "99997      0.162268                 1       inf\n",
       "99998      0.101514                 0  0.091851\n",
       "99999      0.139073                 0  0.123704\n",
       "\n",
       "[100000 rows x 3 columns]"
      ]
     },
     "execution_count": 319,
     "metadata": {},
     "output_type": "execute_result"
    }
   ],
   "source": [
    "data_pred"
   ]
  },
  {
   "cell_type": "code",
   "execution_count": 320,
   "id": "vital-murray",
   "metadata": {},
   "outputs": [
    {
     "name": "stdout",
     "output_type": "stream",
     "text": [
      "Mean of rates : 10.2 %\n",
      "Number of loans granted : 30514\n"
     ]
    },
    {
     "data": {
      "image/png": "[encoded data removed]",
      "text/plain": [
       "<Figure size 432x288 with 1 Axes>"
      ]
     },
     "metadata": {},
     "output_type": "display_data"
    }
   ],
   "source": [
    "plt.hist(data_pred[data_pred['rate'] != float(\"Inf\")]['rate'], bins = 30)\n",
    "plt.title('Distribution of loan rates')\n",
    "print('Mean of rates :', 100*round(data_pred[data_pred != float(\"Inf\")]['rate'].mean(),3), '%')\n",
    "print('Number of loans granted :', len(data_pred[data_pred['rate'] != float(\"Inf\")]))\n",
    "\n",
    "plt.axvline(x = data_pred[data_pred != float(\"Inf\")]['rate'].mean(), color = 'red')\n",
    "plt.show()"
   ]
  },
  {
   "cell_type": "code",
   "execution_count": 321,
   "id": "worth-complement",
   "metadata": {},
   "outputs": [],
   "source": [
    "upload['rate'] = round(data_pred['rate'],3)"
   ]
  },
  {
   "cell_type": "code",
   "execution_count": 322,
   "id": "practical-gibraltar",
   "metadata": {},
   "outputs": [
    {
     "data": {
      "text/html": [
       "<div>\n",
       "<style scoped>\n",
       "    .dataframe tbody tr th:only-of-type {\n",
       "        vertical-align: middle;\n",
       "    }\n",
       "\n",
       "    .dataframe tbody tr th {\n",
       "        vertical-align: top;\n",
       "    }\n",
       "\n",
       "    .dataframe thead th {\n",
       "        text-align: right;\n",
       "    }\n",
       "</style>\n",
       "<table border=\"1\" class=\"dataframe\">\n",
       "  <thead>\n",
       "    <tr style=\"text-align: right;\">\n",
       "      <th></th>\n",
       "      <th>id</th>\n",
       "      <th>sex</th>\n",
       "      <th>employment</th>\n",
       "      <th>marital</th>\n",
       "      <th>income</th>\n",
       "      <th>social3</th>\n",
       "      <th>rate</th>\n",
       "    </tr>\n",
       "  </thead>\n",
       "  <tbody>\n",
       "    <tr>\n",
       "      <th>0</th>\n",
       "      <td>100001</td>\n",
       "      <td>1</td>\n",
       "      <td>employed</td>\n",
       "      <td>1</td>\n",
       "      <td>7787</td>\n",
       "      <td>0.889338</td>\n",
       "      <td>0.118</td>\n",
       "    </tr>\n",
       "    <tr>\n",
       "      <th>1</th>\n",
       "      <td>100002</td>\n",
       "      <td>1</td>\n",
       "      <td>retired</td>\n",
       "      <td>1</td>\n",
       "      <td>9286</td>\n",
       "      <td>0.223372</td>\n",
       "      <td>inf</td>\n",
       "    </tr>\n",
       "    <tr>\n",
       "      <th>2</th>\n",
       "      <td>100003</td>\n",
       "      <td>1</td>\n",
       "      <td>employed</td>\n",
       "      <td>1</td>\n",
       "      <td>25586</td>\n",
       "      <td>0.000000</td>\n",
       "      <td>inf</td>\n",
       "    </tr>\n",
       "    <tr>\n",
       "      <th>3</th>\n",
       "      <td>100004</td>\n",
       "      <td>1</td>\n",
       "      <td>employed</td>\n",
       "      <td>1</td>\n",
       "      <td>57661</td>\n",
       "      <td>0.274015</td>\n",
       "      <td>0.123</td>\n",
       "    </tr>\n",
       "    <tr>\n",
       "      <th>4</th>\n",
       "      <td>100005</td>\n",
       "      <td>1</td>\n",
       "      <td>retired</td>\n",
       "      <td>0</td>\n",
       "      <td>3943</td>\n",
       "      <td>0.208616</td>\n",
       "      <td>inf</td>\n",
       "    </tr>\n",
       "    <tr>\n",
       "      <th>...</th>\n",
       "      <td>...</td>\n",
       "      <td>...</td>\n",
       "      <td>...</td>\n",
       "      <td>...</td>\n",
       "      <td>...</td>\n",
       "      <td>...</td>\n",
       "      <td>...</td>\n",
       "    </tr>\n",
       "    <tr>\n",
       "      <th>99995</th>\n",
       "      <td>199996</td>\n",
       "      <td>1</td>\n",
       "      <td>retired</td>\n",
       "      <td>0</td>\n",
       "      <td>22188</td>\n",
       "      <td>0.279188</td>\n",
       "      <td>inf</td>\n",
       "    </tr>\n",
       "    <tr>\n",
       "      <th>99996</th>\n",
       "      <td>199997</td>\n",
       "      <td>1</td>\n",
       "      <td>student</td>\n",
       "      <td>0</td>\n",
       "      <td>0</td>\n",
       "      <td>0.984142</td>\n",
       "      <td>inf</td>\n",
       "    </tr>\n",
       "    <tr>\n",
       "      <th>99997</th>\n",
       "      <td>199998</td>\n",
       "      <td>1</td>\n",
       "      <td>employed</td>\n",
       "      <td>1</td>\n",
       "      <td>5615</td>\n",
       "      <td>0.659528</td>\n",
       "      <td>inf</td>\n",
       "    </tr>\n",
       "    <tr>\n",
       "      <th>99998</th>\n",
       "      <td>199999</td>\n",
       "      <td>1</td>\n",
       "      <td>unemployed</td>\n",
       "      <td>1</td>\n",
       "      <td>16573</td>\n",
       "      <td>0.557966</td>\n",
       "      <td>0.092</td>\n",
       "    </tr>\n",
       "    <tr>\n",
       "      <th>99999</th>\n",
       "      <td>200000</td>\n",
       "      <td>0</td>\n",
       "      <td>employed</td>\n",
       "      <td>1</td>\n",
       "      <td>10628</td>\n",
       "      <td>0.752969</td>\n",
       "      <td>0.124</td>\n",
       "    </tr>\n",
       "  </tbody>\n",
       "</table>\n",
       "<p>100000 rows × 7 columns</p>\n",
       "</div>"
      ],
      "text/plain": [
       "           id  sex  employment  marital  income   social3   rate\n",
       "0      100001    1    employed        1    7787  0.889338  0.118\n",
       "1      100002    1     retired        1    9286  0.223372    inf\n",
       "2      100003    1    employed        1   25586  0.000000    inf\n",
       "3      100004    1    employed        1   57661  0.274015  0.123\n",
       "4      100005    1     retired        0    3943  0.208616    inf\n",
       "...       ...  ...         ...      ...     ...       ...    ...\n",
       "99995  199996    1     retired        0   22188  0.279188    inf\n",
       "99996  199997    1     student        0       0  0.984142    inf\n",
       "99997  199998    1    employed        1    5615  0.659528    inf\n",
       "99998  199999    1  unemployed        1   16573  0.557966  0.092\n",
       "99999  200000    0    employed        1   10628  0.752969  0.124\n",
       "\n",
       "[100000 rows x 7 columns]"
      ]
     },
     "execution_count": 322,
     "metadata": {},
     "output_type": "execute_result"
    }
   ],
   "source": [
    "upload"
   ]
  },
  {
   "cell_type": "code",
   "execution_count": 323,
   "id": "coated-imagination",
   "metadata": {},
   "outputs": [],
   "source": [
    "upload.to_csv('pred_Stage1_Lender3',index=False)"
   ]
  },
  {
   "cell_type": "code",
   "execution_count": null,
   "id": "solid-circuit",
   "metadata": {},
   "outputs": [],
   "source": []
  }
 ],
 "metadata": {
  "kernelspec": {
   "display_name": "Python 3",
   "language": "python",
   "name": "python3"
  },
  "language_info": {
   "codemirror_mode": {
    "name": "ipython",
    "version": 3
   },
   "file_extension": ".py",
   "mimetype": "text/x-python",
   "name": "python",
   "nbconvert_exporter": "python",
   "pygments_lexer": "ipython3",
   "version": "3.7.3"
  }
 },
 "nbformat": 4,
 "nbformat_minor": 5
}
